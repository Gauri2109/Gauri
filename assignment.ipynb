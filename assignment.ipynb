{
 "cells": [
  {
   "cell_type": "markdown",
   "id": "63993745-13d4-488a-8589-91e93f143e9c",
   "metadata": {},
   "source": [
    "# create two list from given list where 1st list will contain all the odd numbers from the original list and the 2nd one will contain all the even number"
   ]
  },
  {
   "cell_type": "code",
   "execution_count": 2,
   "id": "3e1c0311-215d-47ef-a236-a205a14a9464",
   "metadata": {},
   "outputs": [
    {
     "name": "stdout",
     "output_type": "stream",
     "text": [
      "list: [1, 2, 3, 4, 5, 6]\n",
      "odd numbers [1, 3, 5]\n",
      "even numbers [2, 4, 6]\n"
     ]
    }
   ],
   "source": [
    "l1=[1,2,3,4,5,6]\n",
    "listOdd=[]\n",
    "listEven=[]\n",
    "for num in l1:\n",
    "    if num%2==0:\n",
    "        listEven.append(num)\n",
    "    else:\n",
    "        listOdd.append(num)\n",
    "print(\"list:\",l1)\n",
    "print(\"odd numbers\",listOdd)\n",
    "print(\"even numbers\",listEven)"
   ]
  },
  {
   "cell_type": "markdown",
   "id": "f5b9ec92-a53b-4fd5-aadc-620b914d6e82",
   "metadata": {},
   "source": [
    "# how to take list as input from user"
   ]
  },
  {
   "cell_type": "code",
   "execution_count": 2,
   "id": "28d1564d-e670-4498-b573-7a337985a80d",
   "metadata": {},
   "outputs": [
    {
     "name": "stdout",
     "output_type": "stream",
     "text": [
      "enter length of list\n"
     ]
    },
    {
     "name": "stdin",
     "output_type": "stream",
     "text": [
      " 5\n",
      " 23\n",
      " 34\n",
      " 56\n",
      " 56\n",
      " 32\n"
     ]
    },
    {
     "name": "stdout",
     "output_type": "stream",
     "text": [
      "[23, 34, 56, 56, 32]\n"
     ]
    }
   ],
   "source": [
    "x=[]\n",
    "print('enter length of list')\n",
    "n=int(input())\n",
    "for i in range(n):\n",
    "    x.append(int(input()))\n",
    "print(x)"
   ]
  },
  {
   "cell_type": "markdown",
   "id": "0aba96d6-4d5d-4dbe-a352-e669a80a0d7b",
   "metadata": {},
   "source": [
    "# Write a program to merge 2 list without using the + operator\n",
    "l1=[1,2,3,4]\n",
    "l2=[5,6,7,8]"
   ]
  },
  {
   "cell_type": "code",
   "execution_count": 3,
   "id": "f6796174-c8ec-45e7-a0ad-62a4aed7e7ef",
   "metadata": {},
   "outputs": [
    {
     "name": "stdout",
     "output_type": "stream",
     "text": [
      "[1, 2, 3, 4, 5, 6, 7, 8]\n"
     ]
    }
   ],
   "source": [
    "l1=[1,2,3,4]\n",
    "l2=[5,6,7,8]\n",
    "l1.extend(l2)\n",
    "print(l1)"
   ]
  },
  {
   "cell_type": "markdown",
   "id": "6368eab4-4d82-48be-b1c0-782925d05329",
   "metadata": {},
   "source": [
    "# write a program to replace an item with different item if found in the list \n",
    "l=[1,2,3,4,5,3]\n",
    "replace 3 with 300"
   ]
  },
  {
   "cell_type": "code",
   "execution_count": 18,
   "id": "03863927-7bee-478e-a1cf-d89e5fb1b3f7",
   "metadata": {},
   "outputs": [
    {
     "name": "stdout",
     "output_type": "stream",
     "text": [
      "[1, 2, 300, 4, 5, 300]\n"
     ]
    }
   ],
   "source": [
    "li=[1,2,3,4,5,3]\n",
    "for i in range(len(li)):\n",
    "    if li[i]==3:\n",
    "        li[i]=300\n",
    "print(li)"
   ]
  },
  {
   "cell_type": "markdown",
   "id": "5f1a5c4e-094e-4ab0-8c26-ea1a07892180",
   "metadata": {},
   "source": [
    "# Write a program that can convert a 2D list to 1D list "
   ]
  },
  {
   "cell_type": "code",
   "execution_count": 41,
   "id": "37089c35-ab6e-4ca9-a87a-84d26493fdf1",
   "metadata": {},
   "outputs": [
    {
     "name": "stdout",
     "output_type": "stream",
     "text": [
      "2D array [[1 2 3]\n",
      " [4 5 6]]\n",
      "1D array [1 2 3 4 5 6]\n"
     ]
    }
   ],
   "source": [
    "import numpy as np\n",
    "a=np.array([[1,2,3],[4,5,6]])\n",
    "print(\"2D array\",a)\n",
    "result=a.flatten()\n",
    "print(\"1D array\",result)\n"
   ]
  },
  {
   "cell_type": "markdown",
   "id": "fed82402-cafd-4017-86fa-88a38858e5fe",
   "metadata": {},
   "source": [
    "# Write a program to remove duplicate items from a list"
   ]
  },
  {
   "cell_type": "code",
   "execution_count": 25,
   "id": "20624018-acfb-4bd9-8e1e-e9ff4104e8ac",
   "metadata": {},
   "outputs": [
    {
     "name": "stdout",
     "output_type": "stream",
     "text": [
      "[1, 2, 3, 4, 5]\n"
     ]
    }
   ],
   "source": [
    "def remove(duplicate):\n",
    "    x=[]\n",
    "    for num in duplicate:\n",
    "        if num not in x:\n",
    "            x.append(num)\n",
    "    return x\n",
    "duplicate=[1,2,1,2,3,4,5,3,4]\n",
    "print(remove(duplicate))"
   ]
  },
  {
   "cell_type": "markdown",
   "id": "c0060a40-2c5e-4470-be8e-0171aaae613f",
   "metadata": {},
   "source": [
    "# Write a program to check if a list is in ascending order or not "
   ]
  },
  {
   "cell_type": "code",
   "execution_count": 36,
   "id": "4801f802-9fe2-4f33-86d6-a6824dc34bc6",
   "metadata": {},
   "outputs": [
    {
     "name": "stdout",
     "output_type": "stream",
     "text": [
      "enter the length of list\n"
     ]
    },
    {
     "name": "stdin",
     "output_type": "stream",
     "text": [
      " 5\n",
      " 1\n",
      " 2\n",
      " 3\n",
      " 4\n",
      " 5\n"
     ]
    },
    {
     "name": "stdout",
     "output_type": "stream",
     "text": [
      "[1, 2, 3, 4, 5]\n",
      "yes,list is sorted\n"
     ]
    }
   ],
   "source": [
    "li=[]\n",
    "print(\"enter the length of list\")\n",
    "n=int(input())\n",
    "for i in range(n):\n",
    "    li.append(int(input()))\n",
    "print(li)\n",
    "a=0\n",
    "l1=li[:]\n",
    "l1.sort()\n",
    "if(l1==li):\n",
    "    a=1\n",
    "if(a):\n",
    "    print(\"yes,list is sorted\")\n",
    "else:\n",
    "    print(\"no,list is not sorted\")\n",
    "    "
   ]
  }
 ],
 "metadata": {
  "kernelspec": {
   "display_name": "Python 3 (ipykernel)",
   "language": "python",
   "name": "python3"
  },
  "language_info": {
   "codemirror_mode": {
    "name": "ipython",
    "version": 3
   },
   "file_extension": ".py",
   "mimetype": "text/x-python",
   "name": "python",
   "nbconvert_exporter": "python",
   "pygments_lexer": "ipython3",
   "version": "3.11.7"
  }
 },
 "nbformat": 4,
 "nbformat_minor": 5
}
